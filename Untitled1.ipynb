{
 "cells": [
  {
   "cell_type": "code",
   "execution_count": 22,
   "id": "206a6c58",
   "metadata": {},
   "outputs": [],
   "source": [
    "import pandas as pd\n",
    "import numpy as np\n",
    "import matplotlib.pyplot as plt\n",
    "import seaborn as sns\n",
    "import mpl_toolkits\n",
    "pd.set_option('display.max_seq_items', None)\n"
   ]
  },
  {
   "cell_type": "code",
   "execution_count": 23,
   "id": "fb45165e",
   "metadata": {},
   "outputs": [
    {
     "data": {
      "text/plain": [
       "Index(['Unnamed: 0', 'Immoweb ID', 'Property type', 'property sub-type',\n",
       "       'Price', 'Price (sr only)', 'Price HTML', 'Post code',\n",
       "       'Available as of', 'Property name', 'Construction year', 'Floor',\n",
       "       'Number of floors', 'Building condition', 'Number of frontages',\n",
       "       'Surroundings type', 'Living area', 'Living room surface',\n",
       "       'Dining room', 'Kitchen type', 'Kitchen surface', 'Bedrooms',\n",
       "       'Bedroom 1 surface', 'Bedroom 2 surface', 'Bedroom 3 surface',\n",
       "       'Bathrooms', 'Shower rooms', 'Toilets', 'Furnished', 'Armored door',\n",
       "       'Terrace surface', 'Elevator', 'Accessible for disabled people',\n",
       "       'Visio phone', 'Primary energy consumption', 'Energy class',\n",
       "       'Reference number of the EPC report', 'CO₂ emission',\n",
       "       'Yearly theoretical total energy consumption', 'As built plan',\n",
       "       'Heating type', 'Double glazing', 'Tenement building', 'Address',\n",
       "       'External reference', 'url address', 'Planning permission obtained',\n",
       "       'Subdivision permit', 'Available date', 'Covered parking spaces',\n",
       "       'Outdoor parking spaces',\n",
       "       'Proceedings for breach of planning regulations', 'Flood zone type',\n",
       "       'Neighbourhood or locality', 'Office surface', 'Office', 'Basement',\n",
       "       'Intercom', 'Swimming pool', 'Street frontage width', 'TV cable',\n",
       "       'Basement surface', 'Caretaker', 'Possible priority purchase right',\n",
       "       'Latest land use designation', 'How many fireplaces?', 'Dressing room',\n",
       "       'Laundry room', 'Professional space', 'Terrace orientation',\n",
       "       'Secure access / alarm', 'Air conditioning', 'Jacuzzi', 'Sauna',\n",
       "       'Internet', 'Conformity certification for fuel tanks', 'Heat pump',\n",
       "       'Photovoltaic solar panels', 'Thermic solar panels',\n",
       "       'Common water heater', 'Type of building', 'Obligation to build',\n",
       "       'Living room', 'Attic surface', 'Isolated',\n",
       "       'E-level (overall energy performance)', 'Bedroom 4 surface',\n",
       "       'Total ground floor buildable', 'Garden surface', 'Garden orientation',\n",
       "       'Garden', 'Terrace', 'Extra information', 'Bedroom 5 surface',\n",
       "       'Sea view', 'Agent's name', 'Single session', 'Terms of visit',\n",
       "       'Number of annexes', 'Attic', 'Surface of the plot',\n",
       "       'Connection to sewer network', 'Gas, water & electricity',\n",
       "       'Professional space surface', 'Land is facing street', 'Flat land',\n",
       "       'Current monthly revenue', 'Wooded land', 'Plot at rear',\n",
       "       'Percentage rented', 'EPC description', 'Venue of the sale',\n",
       "       'Date of the sale'],\n",
       "      dtype='object')"
      ]
     },
     "execution_count": 23,
     "metadata": {},
     "output_type": "execute_result"
    }
   ],
   "source": [
    "missing_val = [\"\"]\n",
    "df = pd.read_csv(\"housing_data.csv\", na_values = missing_val)\n",
    "df.columns"
   ]
  },
  {
   "cell_type": "code",
   "execution_count": 33,
   "id": "b2c6e125",
   "metadata": {},
   "outputs": [
    {
     "data": {
      "text/plain": [
       "Unnamed: 0                                            0\n",
       "Immoweb ID                                            0\n",
       "Property type                                         0\n",
       "property sub-type                                     0\n",
       "Price                                                 0\n",
       "Price (sr only)                                       4\n",
       "Price HTML                                            0\n",
       "Post code                                             0\n",
       "Available as of                                    5373\n",
       "Property name                                     13936\n",
       "Construction year                                  6741\n",
       "Floor                                             11697\n",
       "Number of floors                                  11514\n",
       "Building condition                                 4646\n",
       "Number of frontages                                4547\n",
       "Surroundings type                                 10139\n",
       "Living area                                        3177\n",
       "Living room surface                                9274\n",
       "Dining room                                       12533\n",
       "Kitchen type                                       5748\n",
       "Kitchen surface                                   10359\n",
       "Bedrooms                                           2456\n",
       "Bedroom 1 surface                                  9183\n",
       "Bedroom 2 surface                                  9718\n",
       "Bedroom 3 surface                                 11071\n",
       "Bathrooms                                          3739\n",
       "Shower rooms                                      10840\n",
       "Toilets                                            5436\n",
       "Furnished                                          4974\n",
       "Armored door                                      11808\n",
       "Terrace surface                                    9478\n",
       "Elevator                                           8487\n",
       "Accessible for disabled people                    10135\n",
       "Visio phone                                       11013\n",
       "Primary energy consumption                            0\n",
       "Energy class                                          0\n",
       "Reference number of the EPC report                    5\n",
       "CO₂ emission                                          0\n",
       "Yearly theoretical total energy consumption           0\n",
       "As built plan                                     10990\n",
       "Heating type                                       5449\n",
       "Double glazing                                     4271\n",
       "Tenement building                                   342\n",
       "Address                                            1037\n",
       "External reference                                 3570\n",
       "url address                                           0\n",
       "Planning permission obtained                       8532\n",
       "Subdivision permit                                 9173\n",
       "Available date                                    13338\n",
       "Covered parking spaces                             9285\n",
       "Outdoor parking spaces                            10049\n",
       "Proceedings for breach of planning regulations     9141\n",
       "Flood zone type                                    7640\n",
       "Neighbourhood or locality                         12835\n",
       "Office surface                                    13318\n",
       "Office                                             9092\n",
       "Basement                                          10132\n",
       "Intercom                                          10724\n",
       "Swimming pool                                     10131\n",
       "Street frontage width                             11876\n",
       "TV cable                                           8825\n",
       "Basement surface                                  13536\n",
       "Caretaker                                         12461\n",
       "Possible priority purchase right                   8563\n",
       "Latest land use designation                        8856\n",
       "How many fireplaces?                              13728\n",
       "Dressing room                                     11435\n",
       "Laundry room                                      13244\n",
       "Professional space                                13436\n",
       "Terrace orientation                               13746\n",
       "Secure access / alarm                             10944\n",
       "Air conditioning                                  13784\n",
       "Jacuzzi                                           13565\n",
       "Sauna                                             13565\n",
       "Internet                                          13805\n",
       "Conformity certification for fuel tanks           13354\n",
       "Heat pump                                         11657\n",
       "Photovoltaic solar panels                         12742\n",
       "Thermic solar panels                              12398\n",
       "Common water heater                               13142\n",
       "Type of building                                  13170\n",
       "Obligation to build                               12948\n",
       "Living room                                       12394\n",
       "Attic surface                                     14210\n",
       "Isolated                                          14482\n",
       "E-level (overall energy performance)              13636\n",
       "Bedroom 4 surface                                 12700\n",
       "Total ground floor buildable                      13021\n",
       "Garden surface                                    11860\n",
       "Garden orientation                                12447\n",
       "Garden                                            13350\n",
       "Terrace                                           11732\n",
       "Extra information                                 14613\n",
       "Bedroom 5 surface                                 13694\n",
       "Sea view                                          14596\n",
       "Agent's name                                      13622\n",
       "Single session                                    14479\n",
       "Terms of visit                                    14623\n",
       "Number of annexes                                 14423\n",
       "Attic                                             13206\n",
       "Surface of the plot                                7824\n",
       "Connection to sewer network                       10797\n",
       "Gas, water & electricity                           9468\n",
       "Professional space surface                        14177\n",
       "Land is facing street                             13338\n",
       "Flat land                                         13224\n",
       "Current monthly revenue                           14407\n",
       "Wooded land                                       13425\n",
       "Plot at rear                                      13423\n",
       "Percentage rented                                 14498\n",
       "EPC description                                   14616\n",
       "Venue of the sale                                 14622\n",
       "Date of the sale                                  14622\n",
       "dtype: int64"
      ]
     },
     "execution_count": 33,
     "metadata": {},
     "output_type": "execute_result"
    }
   ],
   "source": [
    "df.isnull().sum()"
   ]
  },
  {
   "cell_type": "code",
   "execution_count": 31,
   "id": "7b623287",
   "metadata": {},
   "outputs": [
    {
     "data": {
      "text/plain": [
       "As new            3913\n",
       "Good              3569\n",
       "To renovate        934\n",
       "To be done up      870\n",
       "Just renovated     606\n",
       "To restore          87\n",
       "Name: Building condition, dtype: int64"
      ]
     },
     "execution_count": 31,
     "metadata": {},
     "output_type": "execute_result"
    }
   ],
   "source": [
    "df['Building condition'].value_counts()"
   ]
  },
  {
   "cell_type": "code",
   "execution_count": 34,
   "id": "6625bbc6",
   "metadata": {},
   "outputs": [
    {
     "data": {
      "text/html": [
       "<div>\n",
       "<style scoped>\n",
       "    .dataframe tbody tr th:only-of-type {\n",
       "        vertical-align: middle;\n",
       "    }\n",
       "\n",
       "    .dataframe tbody tr th {\n",
       "        vertical-align: top;\n",
       "    }\n",
       "\n",
       "    .dataframe thead th {\n",
       "        text-align: right;\n",
       "    }\n",
       "</style>\n",
       "<table border=\"1\" class=\"dataframe\">\n",
       "  <thead>\n",
       "    <tr style=\"text-align: right;\">\n",
       "      <th></th>\n",
       "      <th>Unnamed: 0</th>\n",
       "      <th>Immoweb ID</th>\n",
       "      <th>Property type</th>\n",
       "      <th>property sub-type</th>\n",
       "      <th>Price</th>\n",
       "      <th>Price (sr only)</th>\n",
       "      <th>Price HTML</th>\n",
       "      <th>Post code</th>\n",
       "      <th>Available as of</th>\n",
       "      <th>Property name</th>\n",
       "      <th>...</th>\n",
       "      <th>Professional space surface</th>\n",
       "      <th>Land is facing street</th>\n",
       "      <th>Flat land</th>\n",
       "      <th>Current monthly revenue</th>\n",
       "      <th>Wooded land</th>\n",
       "      <th>Plot at rear</th>\n",
       "      <th>Percentage rented</th>\n",
       "      <th>EPC description</th>\n",
       "      <th>Venue of the sale</th>\n",
       "      <th>Date of the sale</th>\n",
       "    </tr>\n",
       "  </thead>\n",
       "  <tbody>\n",
       "  </tbody>\n",
       "</table>\n",
       "<p>0 rows × 113 columns</p>\n",
       "</div>"
      ],
      "text/plain": [
       "Empty DataFrame\n",
       "Columns: [Unnamed: 0, Immoweb ID, Property type, property sub-type, Price, Price (sr only), Price HTML, Post code, Available as of, Property name, Construction year, Floor, Number of floors, Building condition, Number of frontages, Surroundings type, Living area, Living room surface, Dining room, Kitchen type, Kitchen surface, Bedrooms, Bedroom 1 surface, Bedroom 2 surface, Bedroom 3 surface, Bathrooms, Shower rooms, Toilets, Furnished, Armored door, Terrace surface, Elevator, Accessible for disabled people, Visio phone, Primary energy consumption, Energy class, Reference number of the EPC report, CO₂ emission, Yearly theoretical total energy consumption, As built plan, Heating type, Double glazing, Tenement building, Address, External reference, url address, Planning permission obtained, Subdivision permit, Available date, Covered parking spaces, Outdoor parking spaces, Proceedings for breach of planning regulations, Flood zone type, Neighbourhood or locality, Office surface, Office, Basement, Intercom, Swimming pool, Street frontage width, TV cable, Basement surface, Caretaker, Possible priority purchase right, Latest land use designation, How many fireplaces?, Dressing room, Laundry room, Professional space, Terrace orientation, Secure access / alarm, Air conditioning, Jacuzzi, Sauna, Internet, Conformity certification for fuel tanks, Heat pump, Photovoltaic solar panels, Thermic solar panels, Common water heater, Type of building, Obligation to build, Living room, Attic surface, Isolated, E-level (overall energy performance), Bedroom 4 surface, Total ground floor buildable, Garden surface, Garden orientation, Garden, Terrace, Extra information, Bedroom 5 surface, Sea view, Agent's name, Single session, Terms of visit, Number of annexes, Attic, Surface of the plot, Connection to sewer network, Gas, water & electricity, Professional space surface, Land is facing street, Flat land, Current monthly revenue, Wooded land, Plot at rear, Percentage rented, EPC description, Venue of the sale, Date of the sale]\n",
       "Index: []\n",
       "\n",
       "[0 rows x 113 columns]"
      ]
     },
     "execution_count": 34,
     "metadata": {},
     "output_type": "execute_result"
    }
   ],
   "source": [
    "flats"
   ]
  },
  {
   "cell_type": "code",
   "execution_count": null,
   "id": "624b4e07",
   "metadata": {},
   "outputs": [],
   "source": []
  },
  {
   "cell_type": "code",
   "execution_count": null,
   "id": "89f5cf8e",
   "metadata": {},
   "outputs": [],
   "source": []
  }
 ],
 "metadata": {
  "kernelspec": {
   "display_name": "Python 3 (ipykernel)",
   "language": "python",
   "name": "python3"
  },
  "language_info": {
   "codemirror_mode": {
    "name": "ipython",
    "version": 3
   },
   "file_extension": ".py",
   "mimetype": "text/x-python",
   "name": "python",
   "nbconvert_exporter": "python",
   "pygments_lexer": "ipython3",
   "version": "3.8.10"
  }
 },
 "nbformat": 4,
 "nbformat_minor": 5
}
