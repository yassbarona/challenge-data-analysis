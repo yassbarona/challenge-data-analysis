{
 "cells": [
  {
   "cell_type": "code",
   "execution_count": 24,
   "id": "206a6c58",
   "metadata": {},
   "outputs": [
    {
     "data": {
      "text/html": [
       "<div>\n",
       "<style scoped>\n",
       "    .dataframe tbody tr th:only-of-type {\n",
       "        vertical-align: middle;\n",
       "    }\n",
       "\n",
       "    .dataframe tbody tr th {\n",
       "        vertical-align: top;\n",
       "    }\n",
       "\n",
       "    .dataframe thead th {\n",
       "        text-align: right;\n",
       "    }\n",
       "</style>\n",
       "<table border=\"1\" class=\"dataframe\">\n",
       "  <thead>\n",
       "    <tr style=\"text-align: right;\">\n",
       "      <th></th>\n",
       "      <th>ID_0</th>\n",
       "      <th>ISO</th>\n",
       "      <th>NAME_0</th>\n",
       "      <th>ID_1</th>\n",
       "      <th>NAME_1</th>\n",
       "      <th>ID_2</th>\n",
       "      <th>NAME_2</th>\n",
       "      <th>HASC_2</th>\n",
       "      <th>CCN_2</th>\n",
       "      <th>CCA_2</th>\n",
       "      <th>TYPE_2</th>\n",
       "      <th>ENGTYPE_2</th>\n",
       "      <th>NL_NAME_2</th>\n",
       "      <th>VARNAME_2</th>\n",
       "      <th>avg_price</th>\n",
       "      <th>geometry</th>\n",
       "    </tr>\n",
       "  </thead>\n",
       "  <tbody>\n",
       "    <tr>\n",
       "      <th>0</th>\n",
       "      <td>23</td>\n",
       "      <td>BEL</td>\n",
       "      <td>Belgium</td>\n",
       "      <td>1</td>\n",
       "      <td>Bruxelles</td>\n",
       "      <td>1</td>\n",
       "      <td>Bruxelles</td>\n",
       "      <td>BE.BU</td>\n",
       "      <td>0</td>\n",
       "      <td>None</td>\n",
       "      <td>Hoofdstedelijk Gewest|Région Capitale</td>\n",
       "      <td>Capital Region</td>\n",
       "      <td>None</td>\n",
       "      <td>Brussel Hoofstadt|Brusselse Hoofdstedelijke Ge...</td>\n",
       "      <td>1</td>\n",
       "      <td>POLYGON ((4.40986 50.90990, 4.41251 50.90924, ...</td>\n",
       "    </tr>\n",
       "    <tr>\n",
       "      <th>1</th>\n",
       "      <td>23</td>\n",
       "      <td>BEL</td>\n",
       "      <td>Belgium</td>\n",
       "      <td>2</td>\n",
       "      <td>Vlaanderen</td>\n",
       "      <td>2</td>\n",
       "      <td>Antwerpen</td>\n",
       "      <td>BE.AN</td>\n",
       "      <td>0</td>\n",
       "      <td>None</td>\n",
       "      <td>Provincie</td>\n",
       "      <td>Province</td>\n",
       "      <td>None</td>\n",
       "      <td>Amberes|Antuérpia|Antwerp|Anvers|Anversa</td>\n",
       "      <td>1</td>\n",
       "      <td>MULTIPOLYGON (((4.96310 51.45440, 4.96765 51.4...</td>\n",
       "    </tr>\n",
       "    <tr>\n",
       "      <th>2</th>\n",
       "      <td>23</td>\n",
       "      <td>BEL</td>\n",
       "      <td>Belgium</td>\n",
       "      <td>2</td>\n",
       "      <td>Vlaanderen</td>\n",
       "      <td>3</td>\n",
       "      <td>Limburg</td>\n",
       "      <td>BE.LI</td>\n",
       "      <td>0</td>\n",
       "      <td>None</td>\n",
       "      <td>Provincie</td>\n",
       "      <td>Province</td>\n",
       "      <td>None</td>\n",
       "      <td>Limbourg|Limburgo</td>\n",
       "      <td>1</td>\n",
       "      <td>MULTIPOLYGON (((5.78851 50.77223, 5.79070 50.7...</td>\n",
       "    </tr>\n",
       "    <tr>\n",
       "      <th>3</th>\n",
       "      <td>23</td>\n",
       "      <td>BEL</td>\n",
       "      <td>Belgium</td>\n",
       "      <td>2</td>\n",
       "      <td>Vlaanderen</td>\n",
       "      <td>4</td>\n",
       "      <td>Oost-Vlaanderen</td>\n",
       "      <td>BE.OV</td>\n",
       "      <td>0</td>\n",
       "      <td>None</td>\n",
       "      <td>Provincie</td>\n",
       "      <td>Province</td>\n",
       "      <td>None</td>\n",
       "      <td>Flandres Oriental|Fiandra Orientale|Flandes Or...</td>\n",
       "      <td>1</td>\n",
       "      <td>POLYGON ((4.23258 51.35568, 4.24208 51.35143, ...</td>\n",
       "    </tr>\n",
       "    <tr>\n",
       "      <th>4</th>\n",
       "      <td>23</td>\n",
       "      <td>BEL</td>\n",
       "      <td>Belgium</td>\n",
       "      <td>2</td>\n",
       "      <td>Vlaanderen</td>\n",
       "      <td>5</td>\n",
       "      <td>Vlaams Brabant</td>\n",
       "      <td>BE.VB</td>\n",
       "      <td>0</td>\n",
       "      <td>None</td>\n",
       "      <td>Provincie</td>\n",
       "      <td>Province</td>\n",
       "      <td>None</td>\n",
       "      <td>Brabant Flamand|Brabante Flamenco|Brabante Fla...</td>\n",
       "      <td>1</td>\n",
       "      <td>POLYGON ((5.15965 51.03296, 5.16618 51.02446, ...</td>\n",
       "    </tr>\n",
       "  </tbody>\n",
       "</table>\n",
       "</div>"
      ],
      "text/plain": [
       "   ID_0  ISO   NAME_0  ID_1      NAME_1  ID_2           NAME_2 HASC_2  CCN_2  \\\n",
       "0    23  BEL  Belgium     1   Bruxelles     1        Bruxelles  BE.BU      0   \n",
       "1    23  BEL  Belgium     2  Vlaanderen     2        Antwerpen  BE.AN      0   \n",
       "2    23  BEL  Belgium     2  Vlaanderen     3          Limburg  BE.LI      0   \n",
       "3    23  BEL  Belgium     2  Vlaanderen     4  Oost-Vlaanderen  BE.OV      0   \n",
       "4    23  BEL  Belgium     2  Vlaanderen     5   Vlaams Brabant  BE.VB      0   \n",
       "\n",
       "  CCA_2                                 TYPE_2       ENGTYPE_2 NL_NAME_2  \\\n",
       "0  None  Hoofdstedelijk Gewest|Région Capitale  Capital Region      None   \n",
       "1  None                              Provincie        Province      None   \n",
       "2  None                              Provincie        Province      None   \n",
       "3  None                              Provincie        Province      None   \n",
       "4  None                              Provincie        Province      None   \n",
       "\n",
       "                                           VARNAME_2  avg_price  \\\n",
       "0  Brussel Hoofstadt|Brusselse Hoofdstedelijke Ge...          1   \n",
       "1           Amberes|Antuérpia|Antwerp|Anvers|Anversa          1   \n",
       "2                                  Limbourg|Limburgo          1   \n",
       "3  Flandres Oriental|Fiandra Orientale|Flandes Or...          1   \n",
       "4  Brabant Flamand|Brabante Flamenco|Brabante Fla...          1   \n",
       "\n",
       "                                            geometry  \n",
       "0  POLYGON ((4.40986 50.90990, 4.41251 50.90924, ...  \n",
       "1  MULTIPOLYGON (((4.96310 51.45440, 4.96765 51.4...  \n",
       "2  MULTIPOLYGON (((5.78851 50.77223, 5.79070 50.7...  \n",
       "3  POLYGON ((4.23258 51.35568, 4.24208 51.35143, ...  \n",
       "4  POLYGON ((5.15965 51.03296, 5.16618 51.02446, ...  "
      ]
     },
     "execution_count": 24,
     "metadata": {},
     "output_type": "execute_result"
    }
   ],
   "source": [
    "import pandas as pd\n",
    "import numpy as np\n",
    "import matplotlib.pyplot as plt\n",
    "import seaborn as sns\n",
    "import mpl_toolkits\n",
    "import geopandas as gpd\n",
    "pd.set_option('display.max_seq_items', None)\n",
    "\n",
    "be_shp_path = r'/home/becode2/challenge-data-analysis/BEL_adm2.shp'\n",
    "be_shp = gpd.read_file(be_shp_path)\n",
    "be_shp.head()"
   ]
  },
  {
   "cell_type": "code",
   "execution_count": 21,
   "id": "3882caa0",
   "metadata": {},
   "outputs": [
    {
     "data": {
      "text/plain": [
       "<AxesSubplot:>"
      ]
     },
     "execution_count": 21,
     "metadata": {},
     "output_type": "execute_result"
    },
    {
     "data": {
      "image/png": "[encoded data removed]",
      "text/plain": [
       "<Figure size 720x720 with 1 Axes>"
      ]
     },
     "metadata": {
      "needs_background": "light"
     },
     "output_type": "display_data"
    }
   ],
   "source": [
    "be_shp[\"avg_price\"] = 1\n",
    "be_shp.to_file(be_shp_path) \n",
    "be_shp.head()\n",
    "be_shp['avg_price']\n",
    "be_shp.loc[be_shp['NAME_2'] == 'Antwerpen', 'avg_price'] = 7\n",
    "be_shp.loc[be_shp['NAME_2'] == 'Bruxelles', 'avg_price'] = 10\n",
    "be_shp.plot(cmap = 'Greens', column = 'avg_price', figsize = (10,10))"
   ]
  },
  {
   "cell_type": "code",
   "execution_count": 1,
   "id": "a2866e7b",
   "metadata": {},
   "outputs": [
    {
     "ename": "SyntaxError",
     "evalue": "invalid syntax (3213517062.py, line 1)",
     "output_type": "error",
     "traceback": [
      "\u001b[0;36m  Input \u001b[0;32mIn [1]\u001b[0;36m\u001b[0m\n\u001b[0;31m    check out to comit\u001b[0m\n\u001b[0m          ^\u001b[0m\n\u001b[0;31mSyntaxError\u001b[0m\u001b[0;31m:\u001b[0m invalid syntax\n"
     ]
    }
   ],
   "source": [
    "check out to comit\n"
   ]
  },
  {
   "cell_type": "code",
   "execution_count": null,
   "id": "fb45165e",
   "metadata": {},
   "outputs": [],
   "source": []
  },
  {
   "cell_type": "code",
   "execution_count": null,
   "id": "b2c6e125",
   "metadata": {},
   "outputs": [],
   "source": []
  },
  {
   "cell_type": "code",
   "execution_count": null,
   "id": "7b623287",
   "metadata": {},
   "outputs": [],
   "source": []
  },
  {
   "cell_type": "code",
   "execution_count": null,
   "id": "6625bbc6",
   "metadata": {},
   "outputs": [],
   "source": []
  },
  {
   "cell_type": "code",
   "execution_count": null,
   "id": "624b4e07",
   "metadata": {},
   "outputs": [],
   "source": []
  },
  {
   "cell_type": "code",
   "execution_count": null,
   "id": "89f5cf8e",
   "metadata": {},
   "outputs": [],
   "source": []
  }
 ],
 "metadata": {
  "kernelspec": {
   "display_name": "Python 3 (ipykernel)",
   "language": "python",
   "name": "python3"
  },
  "language_info": {
   "codemirror_mode": {
    "name": "ipython",
    "version": 3
   },
   "file_extension": ".py",
   "mimetype": "text/x-python",
   "name": "python",
   "nbconvert_exporter": "python",
   "pygments_lexer": "ipython3",
   "version": "3.8.10"
  }
 },
 "nbformat": 4,
 "nbformat_minor": 5
}
